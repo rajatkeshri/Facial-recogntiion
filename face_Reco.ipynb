{
 "cells": [
  {
   "cell_type": "code",
   "execution_count": 1,
   "metadata": {},
   "outputs": [],
   "source": [
    "import os\n",
    "import face_recognition\n",
    "import cv2"
   ]
  },
  {
   "cell_type": "code",
   "execution_count": 2,
   "metadata": {},
   "outputs": [],
   "source": [
    "def facialrecognition(input_image,folder_to_compare):\n",
    "    \n",
    "    images = os.listdir(folder_to_compare)\n",
    "    image_to_be_matched = cv2.imread(input_image)\n",
    "    if len(face_recognition.face_encodings(image_to_be_matched))!=0:\n",
    "        image_to_be_matched_encoded = face_recognition.face_encodings(image_to_be_matched)[0]\n",
    "    else:\n",
    "        return(\"face not detected\")\n",
    "\n",
    "    x=\"\"\n",
    "    # iterate over each image\n",
    "    for i in images:\n",
    "        temp=os.listdir(folder_to_compare+\"/\"+i)\n",
    "        number=len(temp)\n",
    "        count=0\n",
    "        \n",
    "        for j in temp:\n",
    "            current_image = face_recognition.load_image_file(folder_to_compare+\"/\" + i+\"/\"+j)\n",
    "            current_image_encoded = face_recognition.face_encodings(current_image)[0]\n",
    "            result = face_recognition.compare_faces([image_to_be_matched_encoded], current_image_encoded)\n",
    "            if result[0] == True:\n",
    "                count+=1\n",
    "\n",
    "        if count==number:\n",
    "            return(i)\n",
    "        \n",
    "    return(\"none\")\n",
    "    "
   ]
  },
  {
   "cell_type": "code",
   "execution_count": 4,
   "metadata": {},
   "outputs": [
    {
     "data": {
      "text/plain": [
       "'iron man'"
      ]
     },
     "execution_count": 4,
     "metadata": {},
     "output_type": "execute_result"
    }
   ],
   "source": [
    "input_image=\"iron_1.jpeg\" \n",
    "folder_to_compare='image_to_compare'\n",
    "\n",
    "facialrecognition(input_image,folder_to_compare)\n"
   ]
  },
  {
   "cell_type": "code",
   "execution_count": 11,
   "metadata": {},
   "outputs": [],
   "source": []
  },
  {
   "cell_type": "code",
   "execution_count": null,
   "metadata": {},
   "outputs": [],
   "source": []
  },
  {
   "cell_type": "code",
   "execution_count": null,
   "metadata": {},
   "outputs": [],
   "source": []
  }
 ],
 "metadata": {
  "kernelspec": {
   "display_name": "Python 3",
   "language": "python",
   "name": "python3"
  },
  "language_info": {
   "codemirror_mode": {
    "name": "ipython",
    "version": 3
   },
   "file_extension": ".py",
   "mimetype": "text/x-python",
   "name": "python",
   "nbconvert_exporter": "python",
   "pygments_lexer": "ipython3",
   "version": "3.6.4"
  }
 },
 "nbformat": 4,
 "nbformat_minor": 2
}
